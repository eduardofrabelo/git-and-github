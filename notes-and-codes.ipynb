{
 "cells": [
  {
   "cell_type": "markdown",
   "metadata": {},
   "source": [
    "# Git and GitHub\n",
    "\n",
    "## Primeiras impressões:\n",
    "\n",
    "**Git**: Sua função principal é fazer um gerenciamento de versões e colaboração em projetos.\n",
    "\n",
    "### Git vs. GitHub\n",
    "\n",
    "Git é o software de controle de de versionamento, entretanto GitHub é um *webservice* que podemos utilizar o Git em um servidor.\n",
    "\n",
    "O que buscamos então é trabalhar com GitHub para que possamos utilizar as ferramentas Git por meio do GitHub.\n",
    "\n",
    "\n",
    "## Branches:\n",
    "\n",
    "Branches são ramificações dos ramos principais de commits realizados ao longo do projeto. O ramo principal é chamado de **master/main**. \n",
    "\n",
    "O que podemos fazer é criar um novo branch a partir de um commit e, na sequência criar novas ramificações de códigos a partir de diferentes commits.\n",
    "\n",
    "Além de criar novas ramificações do projeto, podemos fazer as ramificações voltarem ao ramo **master** usando \"compare & pull request\"."
   ]
  },
  {
   "cell_type": "markdown",
   "metadata": {},
   "source": [
    "## Clonando diretórios, Push/Pull:\n",
    "\n",
    "Em primeira instância, precisamos ter em nosso computador um Repositório Git. \n",
    "\n",
    "Pegamos então o exato repositório do GitHub e colocamos em nosso computador."
   ]
  },
  {
   "cell_type": "code",
   "execution_count": null,
   "metadata": {},
   "outputs": [],
   "source": [
    "git clone https://github.com/eduardofrabelo/git-and-github.git"
   ]
  },
  {
   "cell_type": "markdown",
   "metadata": {},
   "source": [
    "Para checar a exsitência, ou as atualizações de um repositório Git temos que usar o comando **status**"
   ]
  },
  {
   "cell_type": "code",
   "execution_count": null,
   "metadata": {},
   "outputs": [],
   "source": [
    "git status"
   ]
  },
  {
   "cell_type": "markdown",
   "metadata": {},
   "source": [
    "Para que possamos fazer uma modificação no repositório temos que adicionar um **commit**\n",
    "\n",
    "    -a: todas as mudanças (all)\n",
    "    -m: comentário"
   ]
  },
  {
   "cell_type": "code",
   "execution_count": null,
   "metadata": {},
   "outputs": [],
   "source": [
    "git commit -a -m \"Adicionando um commit do meu computador\""
   ]
  },
  {
   "cell_type": "markdown",
   "metadata": {},
   "source": [
    "Para configurar um usuário, no caso de ainda não ter configurado, usamos os comandos:"
   ]
  },
  {
   "cell_type": "code",
   "execution_count": null,
   "metadata": {},
   "outputs": [],
   "source": [
    "git config --global user.name \"Eduardo\"\n",
    "git config --global user.email eduardofonsecar@usp.br"
   ]
  },
  {
   "cell_type": "markdown",
   "metadata": {},
   "source": [
    "verificando as informações por meio de"
   ]
  },
  {
   "cell_type": "code",
   "execution_count": null,
   "metadata": {},
   "outputs": [],
   "source": [
    "git status"
   ]
  },
  {
   "cell_type": "markdown",
   "metadata": {},
   "source": [
    "o comando **log** nos permite visualizar as modificações locais que fizemos,\n",
    "\n",
    "    -n: últimos n commits\n",
    "\n",
    "        Pressionar \"q\" para sair do VIM."
   ]
  },
  {
   "cell_type": "code",
   "execution_count": null,
   "metadata": {},
   "outputs": [],
   "source": [
    "git log -n"
   ]
  },
  {
   "cell_type": "markdown",
   "metadata": {},
   "source": [
    "### Push & Pull\n",
    "\n",
    "Push ─ Enviar arquivos locais ao GitHub;\n",
    "Pull ─ Trazer do servidor para a máquina local.\n",
    "\n",
    "Para que isso ocorra bem, temos que configurar um novo aspecto chamado **remote**. Por isso, temos que falar para onde estamos enviando.\n",
    "\n",
    "Temos que falar para qual bracnh estamos enviando também, no nosso caso, **main**."
   ]
  },
  {
   "cell_type": "code",
   "execution_count": null,
   "metadata": {},
   "outputs": [],
   "source": [
    "git push origin main"
   ]
  }
 ],
 "metadata": {
  "language_info": {
   "name": "python"
  },
  "orig_nbformat": 4
 },
 "nbformat": 4,
 "nbformat_minor": 2
}
